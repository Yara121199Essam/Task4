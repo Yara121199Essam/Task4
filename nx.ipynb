{
 "cells": [
  {
   "cell_type": "code",
   "execution_count": 34,
   "id": "8c997acc",
   "metadata": {},
   "outputs": [],
   "source": [
    "import networkx as nx"
   ]
  },
  {
   "cell_type": "code",
   "execution_count": 35,
   "id": "2735f538",
   "metadata": {},
   "outputs": [],
   "source": [
    "g=nx.Graph()"
   ]
  },
  {
   "cell_type": "code",
   "execution_count": 36,
   "id": "e4743793",
   "metadata": {},
   "outputs": [],
   "source": [
    "g.add_nodes_from(['a','b','c'])"
   ]
  },
  {
   "cell_type": "code",
   "execution_count": 37,
   "id": "6f1fbf37",
   "metadata": {},
   "outputs": [],
   "source": [
    "g.add_edges_from([('a','b'),('a','c'),('b','c')])"
   ]
  },
  {
   "cell_type": "code",
   "execution_count": 43,
   "id": "782b5a59",
   "metadata": {},
   "outputs": [
    {
     "data": {
      "image/png": "[encoded data removed]",
      "text/plain": [
       "<Figure size 432x288 with 1 Axes>"
      ]
     },
     "metadata": {},
     "output_type": "display_data"
    }
   ],
   "source": [
    "nx.draw(g,with_labels=True,node_color='pink',node_size=2000,font_size=20,font_color='white')"
   ]
  },
  {
   "cell_type": "code",
   "execution_count": 44,
   "id": "d37d89a1",
   "metadata": {},
   "outputs": [
    {
     "data": {
      "text/plain": [
       "NodeView(('a', 'b', 'c'))"
      ]
     },
     "execution_count": 44,
     "metadata": {},
     "output_type": "execute_result"
    }
   ],
   "source": [
    "g.nodes()"
   ]
  },
  {
   "cell_type": "code",
   "execution_count": 45,
   "id": "986c13c8",
   "metadata": {},
   "outputs": [
    {
     "data": {
      "text/plain": [
       "EdgeView([('a', 'b'), ('a', 'c'), ('b', 'c')])"
      ]
     },
     "execution_count": 45,
     "metadata": {},
     "output_type": "execute_result"
    }
   ],
   "source": [
    "g.edges()"
   ]
  },
  {
   "cell_type": "code",
   "execution_count": 46,
   "id": "3ac9f719",
   "metadata": {},
   "outputs": [
    {
     "data": {
      "text/plain": [
       "3"
      ]
     },
     "execution_count": 46,
     "metadata": {},
     "output_type": "execute_result"
    }
   ],
   "source": [
    "g.number_of_nodes()"
   ]
  },
  {
   "cell_type": "code",
   "execution_count": 57,
   "id": "29d5c9f0",
   "metadata": {},
   "outputs": [
    {
     "data": {
      "text/plain": [
       "3"
      ]
     },
     "execution_count": 57,
     "metadata": {},
     "output_type": "execute_result"
    }
   ],
   "source": [
    "g.number_of_edges()"
   ]
  },
  {
   "cell_type": "code",
   "execution_count": 56,
   "id": "f8e3cff1",
   "metadata": {},
   "outputs": [
    {
     "data": {
      "text/plain": [
       "['b', 'c']"
      ]
     },
     "execution_count": 56,
     "metadata": {},
     "output_type": "execute_result"
    }
   ],
   "source": [
    "list(g.neighbors('a'))"
   ]
  },
  {
   "cell_type": "code",
   "execution_count": 58,
   "id": "a6cf4a9e",
   "metadata": {},
   "outputs": [
    {
     "data": {
      "text/plain": [
       "False"
      ]
     },
     "execution_count": 58,
     "metadata": {},
     "output_type": "execute_result"
    }
   ],
   "source": [
    "g.has_node(\"e\")"
   ]
  },
  {
   "cell_type": "code",
   "execution_count": 59,
   "id": "ff90e2c3",
   "metadata": {},
   "outputs": [
    {
     "data": {
      "text/plain": [
       "True"
      ]
     },
     "execution_count": 59,
     "metadata": {},
     "output_type": "execute_result"
    }
   ],
   "source": [
    "g.has_edge(\"a\",\"c\")"
   ]
  },
  {
   "cell_type": "code",
   "execution_count": 60,
   "id": "54be1595",
   "metadata": {},
   "outputs": [
    {
     "data": {
      "text/plain": [
       "False"
      ]
     },
     "execution_count": 60,
     "metadata": {},
     "output_type": "execute_result"
    }
   ],
   "source": [
    "nx.is_tree(g)"
   ]
  },
  {
   "cell_type": "code",
   "execution_count": 61,
   "id": "377c29c1",
   "metadata": {},
   "outputs": [
    {
     "data": {
      "text/plain": [
       "True"
      ]
     },
     "execution_count": 61,
     "metadata": {},
     "output_type": "execute_result"
    }
   ],
   "source": [
    "nx.is_connected(g)"
   ]
  },
  {
   "cell_type": "code",
   "execution_count": 64,
   "id": "1da06269",
   "metadata": {
    "scrolled": true
   },
   "outputs": [
    {
     "data": {
      "text/plain": [
       "2"
      ]
     },
     "execution_count": 64,
     "metadata": {},
     "output_type": "execute_result"
    }
   ],
   "source": [
    "g.degree('b')"
   ]
  },
  {
   "cell_type": "code",
   "execution_count": 137,
   "id": "646dc84b",
   "metadata": {},
   "outputs": [],
   "source": [
    "d=nx.DiGraph()"
   ]
  },
  {
   "cell_type": "code",
   "execution_count": 140,
   "id": "96ba29b7",
   "metadata": {},
   "outputs": [],
   "source": [
    "d.add_edges_from([('a','c'),('c','a'),('b','c')])"
   ]
  },
  {
   "cell_type": "code",
   "execution_count": 143,
   "id": "d1e1d917",
   "metadata": {},
   "outputs": [
    {
     "data": {
      "image/png": "[encoded data removed]",
      "text/plain": [
       "<Figure size 432x288 with 1 Axes>"
      ]
     },
     "metadata": {},
     "output_type": "display_data"
    }
   ],
   "source": [
    "nx.draw(d,with_labels=True,node_color='green',node_size=2000,font_size=20,font_color='black')"
   ]
  },
  {
   "cell_type": "code",
   "execution_count": 150,
   "id": "aa1f56a8",
   "metadata": {},
   "outputs": [
    {
     "data": {
      "text/plain": [
       "NodeView(('a', 'c', 'b'))"
      ]
     },
     "execution_count": 150,
     "metadata": {},
     "output_type": "execute_result"
    }
   ],
   "source": [
    "d.nodes()"
   ]
  },
  {
   "cell_type": "code",
   "execution_count": 151,
   "id": "b5a29db0",
   "metadata": {},
   "outputs": [
    {
     "data": {
      "text/plain": [
       "OutEdgeView([('a', 'c'), ('c', 'a'), ('b', 'b'), ('b', 'c')])"
      ]
     },
     "execution_count": 151,
     "metadata": {},
     "output_type": "execute_result"
    }
   ],
   "source": [
    "d.edges()"
   ]
  },
  {
   "cell_type": "code",
   "execution_count": 152,
   "id": "54d2aab5",
   "metadata": {},
   "outputs": [
    {
     "data": {
      "text/plain": [
       "3"
      ]
     },
     "execution_count": 152,
     "metadata": {},
     "output_type": "execute_result"
    }
   ],
   "source": [
    "d.number_of_nodes()"
   ]
  },
  {
   "cell_type": "code",
   "execution_count": 153,
   "id": "75a7914c",
   "metadata": {},
   "outputs": [
    {
     "data": {
      "text/plain": [
       "4"
      ]
     },
     "execution_count": 153,
     "metadata": {},
     "output_type": "execute_result"
    }
   ],
   "source": [
    "d.number_of_edges()"
   ]
  },
  {
   "cell_type": "code",
   "execution_count": 154,
   "id": "7f139c58",
   "metadata": {},
   "outputs": [
    {
     "name": "stdout",
     "output_type": "stream",
     "text": [
      "c\n"
     ]
    }
   ],
   "source": [
    "for i in d.neighbors('a'):\n",
    "    print(i)"
   ]
  },
  {
   "cell_type": "code",
   "execution_count": 159,
   "id": "38299f78",
   "metadata": {},
   "outputs": [
    {
     "data": {
      "text/plain": [
       "False"
      ]
     },
     "execution_count": 159,
     "metadata": {},
     "output_type": "execute_result"
    }
   ],
   "source": [
    "g.has_node(\"h\")"
   ]
  },
  {
   "cell_type": "code",
   "execution_count": 158,
   "id": "a17dc331",
   "metadata": {},
   "outputs": [
    {
     "data": {
      "text/plain": [
       "True"
      ]
     },
     "execution_count": 158,
     "metadata": {},
     "output_type": "execute_result"
    }
   ],
   "source": [
    "g.has_edge(\"a\",\"c\")"
   ]
  },
  {
   "cell_type": "code",
   "execution_count": 160,
   "id": "715df3fd",
   "metadata": {},
   "outputs": [
    {
     "data": {
      "text/plain": [
       "False"
      ]
     },
     "execution_count": 160,
     "metadata": {},
     "output_type": "execute_result"
    }
   ],
   "source": [
    "nx.is_tree(d)"
   ]
  },
  {
   "cell_type": "code",
   "execution_count": 164,
   "id": "da0ff406",
   "metadata": {},
   "outputs": [
    {
     "data": {
      "text/plain": [
       "2"
      ]
     },
     "execution_count": 164,
     "metadata": {},
     "output_type": "execute_result"
    }
   ],
   "source": [
    "g.degree('b')"
   ]
  }
 ],
 "metadata": {
  "kernelspec": {
   "display_name": "Python 3 (ipykernel)",
   "language": "python",
   "name": "python3"
  },
  "language_info": {
   "codemirror_mode": {
    "name": "ipython",
    "version": 3
   },
   "file_extension": ".py",
   "mimetype": "text/x-python",
   "name": "python",
   "nbconvert_exporter": "python",
   "pygments_lexer": "ipython3",
   "version": "3.9.7"
  }
 },
 "nbformat": 4,
 "nbformat_minor": 5
}
